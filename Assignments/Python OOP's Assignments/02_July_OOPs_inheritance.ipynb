{
 "cells": [
  {
   "cell_type": "markdown",
   "id": "6c99cd46",
   "metadata": {},
   "source": [
    "<h1><center>Python OOP's Concepts Assignment - 2</center></h1>"
   ]
  },
  {
   "cell_type": "markdown",
   "id": "62057cab",
   "metadata": {},
   "source": [
    "## 1. Explain what inheritance is in object-oriented programming and why it is used."
   ]
  },
  {
   "cell_type": "markdown",
   "id": "25a174aa",
   "metadata": {},
   "source": [
    "Inheritance is a fundamental concept in object-oriented programming (OOP) that allows a class (subclass) to inherit properties and behaviors from another class (superclass). In other words, the subclass can reuse and extend the attributes and methods of the superclass, forming a hierarchical relationship between classes.\n",
    "\n",
    "Inheritance is represented by an \"is-a\" relationship, where the subclass is a specialized version of the superclass. The subclass inherits all the attributes and methods of the superclass, and it can also have its own additional attributes and methods.\n",
    "\n",
    "   - Code Reusability: Inheritance promotes code reusability by allowing common attributes and methods to be defined in the superclass and inherited by multiple subclasses. This eliminates the need to rewrite the same code in different classes.\n",
    "   <br>\n",
    "   - Modularity: Inheritance allows developers to break down complex classes into smaller, more manageable subclasses, each focusing on specific behaviors or attributes. This improves the modularity of the code, making it easier to understand, maintain, and extend.\n",
    "   <br>\n",
    "\n",
    "   - Extensibility: Subclasses can add new functionality to the inherited methods or override them to modify their behavior according to the specific needs of the subclass. This enables the creation of specialized classes while still retaining the core functionality from the superclass.\n",
    "   <br>\n",
    "   \n",
    "   - Polymorphism: Inheritance plays a crucial role in achieving polymorphism, which means that objects of different classes can be treated as objects of a common superclass. This allows for more flexible and generic code, as objects can be manipulated using a uniform interface defined in the superclass."
   ]
  },
  {
   "cell_type": "code",
   "execution_count": 4,
   "id": "d87c4753",
   "metadata": {},
   "outputs": [
    {
     "name": "stdout",
     "output_type": "stream",
     "text": [
      "This is a red shape.\n",
      "Circle Area: 50.24\n"
     ]
    }
   ],
   "source": [
    "class Shape:\n",
    "    def __init__(self, color):\n",
    "        self.color = color\n",
    "\n",
    "    def area(self):\n",
    "        pass  \n",
    "    \n",
    "    def display(self):\n",
    "        print(f\"This is a {self.color} shape.\")\n",
    "\n",
    "class Circle(Shape):\n",
    "    def __init__(self, color, radius):\n",
    "        super().__init__(color)\n",
    "        self.radius = radius\n",
    "\n",
    "    def area(self):\n",
    "        return 3.14 * self.radius ** 2\n",
    "\n",
    "\n",
    "circle1 = Circle(\"red\", 4)\n",
    "\n",
    "circle1.display()    \n",
    "\n",
    "print(\"Circle Area:\", circle1.area())      "
   ]
  },
  {
   "cell_type": "markdown",
   "id": "b9bf8c9e",
   "metadata": {},
   "source": [
    "## 2. Discuss the concept of single inheritance and multiple inheritance, highlighting their differences and advantages."
   ]
  },
  {
   "cell_type": "markdown",
   "id": "5ebf80c3",
   "metadata": {},
   "source": [
    "Single Inheritance and Multiple Inheritance are two different types of class inheritance in object-oriented programming. Let's explore each concept and highlight their differences and advantages:\n",
    "\n",
    "1. Single Inheritance:\n",
    "   - Single inheritance refers to a scenario where a subclass inherits from only one superclass. That means a subclass can have only one direct parent class, and it inherits all the attributes and methods of that parent class.\n",
    "   - In Python, single inheritance is achieved by specifying the superclass in the parentheses after the class name during class definition.\n",
    "\n",
    "2. Multiple Inheritance:\n",
    "   - Multiple inheritance refers to a scenario where a subclass inherits from multiple superclasses. In this case, a subclass can have more than one direct parent class, and it inherits attributes and methods from all of them.\n",
    "   - In Python, multiple inheritance is achieved by specifying multiple superclasses in the parentheses separated by commas during class definition.\n",
    "\n",
    "Differences between Single Inheritance and Multiple Inheritance:\n",
    "\n",
    "- Single inheritance involves one superclass and one subclass, while multiple inheritance involves multiple superclasses and one subclass.\n",
    "- In single inheritance, the class hierarchy is a simple tree structure, whereas in multiple inheritance, the class hierarchy can be more complex with a diamond-shaped inheritance structure in case of ambiguity.\n",
    "- In single inheritance, there is no risk of method name clashes, while multiple inheritance may lead to method name conflicts between superclasses, requiring method resolution rules like Method Resolution Order (MRO) to resolve the ambiguity."
   ]
  },
  {
   "cell_type": "markdown",
   "id": "3b773cff",
   "metadata": {},
   "source": [
    "## 3. Explain the terms \"base class\" and \"derived class\" in the context of inheritance."
   ]
  },
  {
   "cell_type": "markdown",
   "id": "c701440e",
   "metadata": {},
   "source": [
    "In the context of inheritance, \"base class\" and \"derived class\" are terms used to refer to the superclass and subclass, respectively, in a class hierarchy. These terms are used to describe the relationship between two classes connected through inheritance.\n",
    "\n",
    "1. Base Class (Superclass):\n",
    "   - The base class, also known as the superclass or parent class, is the class that is being inherited from. It serves as the template or blueprint for creating one or more subclasses. The base class defines common attributes and methods that can be reused by its subclasses.\n",
    "   - It contains the common functionality shared among the subclasses, promoting code reusability and modularity.\n",
    "   \n",
    "   <br>\n",
    "2. Derived Class (Subclass):\n",
    "   - The derived class, also known as the subclass or child class, is the class that inherits from the base class. It is the specialized version of the base class, meaning it inherits all the attributes and methods of the base class and can also have its own additional attributes and methods.\n",
    "   - The subclass extends the functionality of the base class by adding new features specific to the subclass, while still retaining the core functionality inherited from the base class."
   ]
  },
  {
   "cell_type": "markdown",
   "id": "bf763ffa",
   "metadata": {},
   "source": [
    "## 4. What is the significance of the \"protected\" access modifier in inheritance? How does it differ from \"private\" and \"public\" modifiers?"
   ]
  },
  {
   "cell_type": "markdown",
   "id": "3182b6ff",
   "metadata": {},
   "source": [
    "In object-oriented programming, access modifiers (also known as visibility modifiers) control the visibility and accessibility of class members (attributes and methods) from outside the class. In Python, there are three main access modifiers: public, protected, and private.\n",
    "\n",
    "1. Public Access Modifier:\n",
    "   - Members with public access modifier are accessible from anywhere, both inside and outside the class.\n",
    "   - In Python, all class members (attributes and methods) are public by default if no access modifier is specified explicitly.\n",
    "\n",
    "2. Protected Access Modifier:\n",
    "   - Members with protected access modifier are accessible from the class itself and its subclasses (derived classes) but not from outside the class hierarchy.\n",
    "   - In Python, we use a single leading underscore before the member name to indicate that it is protected.\n",
    "\n",
    "3. Private Access Modifier:\n",
    "   - Members with private access modifier are accessible only from the class itself, not even from its subclasses. They are meant to be entirely private and not intended for direct access outside the class.\n",
    "   - In Python, we use double leading underscores before the member name to indicate that it is private.\n",
    "\n",
    "Significance and Differences:\n",
    "\n",
    "- The protected access modifier in inheritance allows the subclass to access and use certain attributes and methods of the base class without exposing them to the outside world. It ensures that these members are intended for internal use within the class hierarchy.\n",
    "\n",
    "- The main difference between private, protected, and public access modifiers lies in their visibility and accessibility:\n",
    "  - Private members are only accessible within the class itself.\n",
    "  - Protected members are accessible within the class and its subclasses (derived classes).\n",
    "  - Public members are accessible from anywhere, both inside and outside the class."
   ]
  },
  {
   "cell_type": "markdown",
   "id": "7e35870f",
   "metadata": {},
   "source": [
    "## 5. What is the purpose of the \"super\" keyword in inheritance? Provide an example."
   ]
  },
  {
   "cell_type": "markdown",
   "id": "2fa09a63",
   "metadata": {},
   "source": [
    "The super keyword in inheritance is used to call a method from the superclass (base class) within a subclass (derived class). It is primarily used to access and invoke the overridden method of the superclass from the subclass while still retaining the functionality defined in the superclass. The `super` keyword is especially useful in cases of method overriding, where the subclass provides a specialized implementation of a method already defined in the superclass. It is helpful in maintaining code reusability and ensuring that the subclass can leverage the existing behavior of the superclass, making it easy to extend and modify the functionality without repeating code.\n",
    "\n",
    "By using the super keyword, we can efficiently extend and modify the functionality of the superclass in the subclass while maintaining the original behavior defined in the base class."
   ]
  },
  {
   "cell_type": "code",
   "execution_count": 6,
   "id": "f11eaec4",
   "metadata": {},
   "outputs": [
    {
     "name": "stdout",
     "output_type": "stream",
     "text": [
      "\n",
      "Buddy makes a generic animal sound.\n",
      "\n",
      "Buddy barks. Woof!\n"
     ]
    }
   ],
   "source": [
    "class Animal:\n",
    "    def __init__(self, name):\n",
    "        self.name = name\n",
    "\n",
    "    def speak(self):\n",
    "        print(f\"\\n{self.name} makes a generic animal sound.\")\n",
    "\n",
    "class Dog(Animal):\n",
    "    def __init__(self, name, breed):\n",
    "        super().__init__(name)\n",
    "        self.breed = breed\n",
    "\n",
    "    def speak(self):\n",
    "        super().speak()  # Call the 'speak' method of the superclass (Animal)\n",
    "        print(f\"\\n{self.name} barks. Woof!\")\n",
    "\n",
    "# Create an instance of the Dog class\n",
    "dog1 = Dog(\"Buddy\", \"Labrador Retriever\")\n",
    "\n",
    "# Call the 'speak' method of the Dog class\n",
    "dog1.speak()"
   ]
  },
  {
   "cell_type": "markdown",
   "id": "6821387a",
   "metadata": {},
   "source": [
    "## 6. Create a base class called \"Vehicle\" with attributes like \"make\", \"model\", and \"year\". Then, create a derived class called \"Car\" that inherits from \"Vehicle\" and adds an attribute called \"fuel_type\". Implement appropriate methods in both classes."
   ]
  },
  {
   "cell_type": "code",
   "execution_count": 8,
   "id": "a66729dd",
   "metadata": {},
   "outputs": [
    {
     "name": "stdout",
     "output_type": "stream",
     "text": [
      "Make: Toyota\n",
      "Model: Fortuner\n",
      "Year: 2022\n",
      "Fuel Type: Petrol\n"
     ]
    }
   ],
   "source": [
    "class Vehicle:\n",
    "    def __init__(self, make, model, year):\n",
    "        self.make = make\n",
    "        self.model = model\n",
    "        self.year = year\n",
    "\n",
    "    def display_info(self):\n",
    "        print(f\"Make: {self.make}\")\n",
    "        print(f\"Model: {self.model}\")\n",
    "        print(f\"Year: {self.year}\")\n",
    "\n",
    "\n",
    "class Car(Vehicle):\n",
    "    def __init__(self, make, model, year, fuel_type):\n",
    "        super().__init__(make, model, year)\n",
    "        self.fuel_type = fuel_type\n",
    "\n",
    "    def display_info(self):\n",
    "        super().display_info()  # Call the display_info method of the base class (Vehicle)\n",
    "        print(f\"Fuel Type: {self.fuel_type}\")\n",
    "\n",
    "car1 = Car(\"Toyota\", \"Fortuner\", 2022, \"Petrol\")\n",
    "car1.display_info()"
   ]
  },
  {
   "cell_type": "markdown",
   "id": "deb2a862",
   "metadata": {},
   "source": [
    "## 7. Create a base class called \"Employee\" with attributes like \"name\" and \"salary.\" Derive two classes, \"Manager\" and \"Developer,\" from \"Employee.\" Add an additional attribute called \"department\" for the \"Manager\" class and \"programming_language\" for the \"Developer\" class."
   ]
  },
  {
   "cell_type": "code",
   "execution_count": 12,
   "id": "486ef3ca",
   "metadata": {},
   "outputs": [
    {
     "name": "stdout",
     "output_type": "stream",
     "text": [
      "Name: John Doe\n",
      "Salary: 75000\n",
      "Department: Sales\n",
      "\n",
      "Name: Jane Smith\n",
      "Salary: 65000\n",
      "Programming Language: Python\n",
      "\n"
     ]
    }
   ],
   "source": [
    "class Employee:\n",
    "    def __init__(self, name, salary):\n",
    "        self.name = name\n",
    "        self.salary = salary\n",
    "\n",
    "    def display_info(self):\n",
    "        print(f\"Name: {self.name}\")\n",
    "        print(f\"Salary: {self.salary}\")\n",
    "\n",
    "\n",
    "class Manager(Employee):\n",
    "    def __init__(self, name, salary, department):\n",
    "        super().__init__(name, salary)\n",
    "        self.department = department\n",
    "\n",
    "    def display_info(self):\n",
    "        super().display_info()  # Call the display_info method of the base class (Employee)\n",
    "        print(f\"Department: {self.department}\\n\")\n",
    "\n",
    "\n",
    "class Developer(Employee):\n",
    "    def __init__(self, name, salary, programming_language):\n",
    "        super().__init__(name, salary)\n",
    "        self.programming_language = programming_language\n",
    "\n",
    "    def display_info(self):\n",
    "        super().display_info()  # Call the display_info method of the base class (Employee)\n",
    "        print(f\"Programming Language: {self.programming_language}\\n\")\n",
    "\n",
    "manager1 = Manager(\"John Doe\", 75000, \"Sales\")\n",
    "developer1 = Developer(\"Jane Smith\", 65000, \"Python\")\n",
    "\n",
    "manager1.display_info()\n",
    "developer1.display_info()\n"
   ]
  },
  {
   "cell_type": "markdown",
   "id": "567fa492",
   "metadata": {},
   "source": [
    "## 8. Design a base class called \"Shape\" with attributes like \"colour\" and \"border_width.\" Create derived classes, \"Rectangle\" and \"Circle,\" that inherit from \"Shape\" and add specific attributes like \"length\" and \"width\" for the \"Rectangle\" class and \"radius\" for the \"Circle\" class."
   ]
  },
  {
   "cell_type": "code",
   "execution_count": 15,
   "id": "3ad760d2",
   "metadata": {},
   "outputs": [
    {
     "name": "stdout",
     "output_type": "stream",
     "text": [
      "\n",
      "Colour: Blue\n",
      "Border Width: 2\n",
      "Length: 10\n",
      "Width: 5\n",
      "\n",
      "Colour: Red\n",
      "Border Width: 1\n",
      "Radius: 8\n",
      "\n"
     ]
    }
   ],
   "source": [
    "class Shape:\n",
    "    def __init__(self, colour, border_width):\n",
    "        self.colour = colour\n",
    "        self.border_width = border_width\n",
    "\n",
    "    def display_info(self):\n",
    "        print(f\"\\nColour: {self.colour}\")\n",
    "        print(f\"Border Width: {self.border_width}\")\n",
    "\n",
    "\n",
    "class Rectangle(Shape):\n",
    "    def __init__(self, colour, border_width, length, width):\n",
    "        super().__init__(colour, border_width)\n",
    "        self.length = length\n",
    "        self.width = width\n",
    "\n",
    "    def display_info(self):\n",
    "        super().display_info()  # Call the display_info method of the base class (Shape)\n",
    "        print(f\"Length: {self.length}\")\n",
    "        print(f\"Width: {self.width}\")\n",
    "\n",
    "\n",
    "class Circle(Shape):\n",
    "    def __init__(self, colour, border_width, radius):\n",
    "        super().__init__(colour, border_width)\n",
    "        self.radius = radius\n",
    "\n",
    "    def display_info(self):\n",
    "        super().display_info()  # Call the display_info method of the base class (Shape)\n",
    "        print(f\"Radius: {self.radius}\\n\")\n",
    "\n",
    "rectangle1 = Rectangle(\"Blue\", 2, 10, 5)\n",
    "circle1 = Circle(\"Red\", 1, 8)\n",
    "\n",
    "rectangle1.display_info()\n",
    "circle1.display_info()"
   ]
  },
  {
   "cell_type": "markdown",
   "id": "ea18df95",
   "metadata": {},
   "source": [
    "## 9. Create a base class called \"Device\" with attributes like \"brand\" and \"model.\" Derive two classes, \"Phone\" and \"Tablet,\" from \"Device.\" Add specific attributes like \"screen_size\" for the \"Phone\" class and \"battery_capacity\" for the \"Tablet\" class."
   ]
  },
  {
   "cell_type": "code",
   "execution_count": 17,
   "id": "ac5d3bc9",
   "metadata": {},
   "outputs": [
    {
     "name": "stdout",
     "output_type": "stream",
     "text": [
      "Brand: Apple\n",
      "Model: iPhone 13\n",
      "Screen Size: 6.1 inches\n",
      "\n",
      "Brand: Samsung\n",
      "Model: Galaxy Tab S7\n",
      "Battery Capacity: 8000 mAh\n"
     ]
    }
   ],
   "source": [
    "class Device:\n",
    "    def __init__(self, brand, model):\n",
    "        self.brand = brand\n",
    "        self.model = model\n",
    "\n",
    "    def display_info(self):\n",
    "        print(f\"Brand: {self.brand}\")\n",
    "        print(f\"Model: {self.model}\")\n",
    "\n",
    "\n",
    "class Phone(Device):\n",
    "    def __init__(self, brand, model, screen_size):\n",
    "        super().__init__(brand, model)\n",
    "        self.screen_size = screen_size\n",
    "\n",
    "    def display_info(self):\n",
    "        super().display_info()  # Call the display_info method of the base class (Device)\n",
    "        print(f\"Screen Size: {self.screen_size}\\n\")\n",
    "\n",
    "\n",
    "class Tablet(Device):\n",
    "    def __init__(self, brand, model, battery_capacity):\n",
    "        super().__init__(brand, model)\n",
    "        self.battery_capacity = battery_capacity\n",
    "\n",
    "    def display_info(self):\n",
    "        super().display_info()  # Call the display_info method of the base class (Device)\n",
    "        print(f\"Battery Capacity: {self.battery_capacity}\")\n",
    "\n",
    "phone1 = Phone(\"Apple\", \"iPhone 13\", \"6.1 inches\")\n",
    "tablet1 = Tablet(\"Samsung\", \"Galaxy Tab S7\", \"8000 mAh\")\n",
    "\n",
    "phone1.display_info()\n",
    "tablet1.display_info()\n"
   ]
  },
  {
   "cell_type": "markdown",
   "id": "37672368",
   "metadata": {},
   "source": [
    "## 10. Create a base class called \"BankAccount\" with attributes like \"account_number\" and \"balance.\" Derive two classes, \"SavingsAccount\" and \"CheckingAccount,\" from \"BankAccount.\" Add specific methods like \"calculate_interest\" for the \"SavingsAccount\" class and \"deduct_fees\" for the \"CheckingAccount\" class."
   ]
  },
  {
   "cell_type": "code",
   "execution_count": 20,
   "id": "9dc3c310",
   "metadata": {},
   "outputs": [
    {
     "name": "stdout",
     "output_type": "stream",
     "text": [
      "Account Number: 12345678\n",
      "Balance: $5000.00\n",
      "Interest Rate: 2.50%\n",
      "\n",
      "Interest Amount: $125.00\n",
      "Account Number: 12345678\n",
      "Balance: $5125.00\n",
      "Interest Rate: 2.50%\n",
      "\n",
      "Account Number: 87654321\n",
      "Balance: $3000.00\n",
      "Fees Deducted: $25.00\n",
      "\n",
      "Account Number: 87654321\n",
      "Balance: $2975.00\n"
     ]
    }
   ],
   "source": [
    "class BankAccount:\n",
    "    def __init__(self, account_number, balance):\n",
    "        self.account_number = account_number\n",
    "        self.balance = balance\n",
    "\n",
    "    def display_info(self):\n",
    "        print(f\"Account Number: {self.account_number}\")\n",
    "        print(f\"Balance: ${self.balance:.2f}\")\n",
    "\n",
    "\n",
    "class SavingsAccount(BankAccount):\n",
    "    def __init__(self, account_number, balance, interest_rate):\n",
    "        super().__init__(account_number, balance)\n",
    "        self.interest_rate = interest_rate\n",
    "\n",
    "    def calculate_interest(self):\n",
    "        interest_amount = self.balance * (self.interest_rate / 100)\n",
    "        self.balance += interest_amount\n",
    "        print(f\"Interest Amount: ${interest_amount:.2f}\")\n",
    "\n",
    "    def display_info(self):\n",
    "        super().display_info()  # Call the display_info method of the base class (BankAccount)\n",
    "        print(f\"Interest Rate: {self.interest_rate:.2f}%\\n\")\n",
    "\n",
    "\n",
    "class CheckingAccount(BankAccount):\n",
    "    def __init__(self, account_number, balance, fees):\n",
    "        super().__init__(account_number, balance)\n",
    "        self.fees = fees\n",
    "\n",
    "    def deduct_fees(self):\n",
    "        self.balance -= self.fees\n",
    "        print(f\"Fees Deducted: ${self.fees:.2f}\\n\")\n",
    "\n",
    "savings_account1 = SavingsAccount(\"12345678\", 5000, 2.5)\n",
    "checking_account1 = CheckingAccount(\"87654321\", 3000, 25)\n",
    "\n",
    "savings_account1.display_info()\n",
    "savings_account1.calculate_interest()\n",
    "savings_account1.display_info()\n",
    "\n",
    "checking_account1.display_info()\n",
    "checking_account1.deduct_fees()\n",
    "checking_account1.display_info()"
   ]
  },
  {
   "cell_type": "code",
   "execution_count": null,
   "id": "dd7bc519",
   "metadata": {},
   "outputs": [],
   "source": []
  }
 ],
 "metadata": {
  "kernelspec": {
   "display_name": "Python 3 (ipykernel)",
   "language": "python",
   "name": "python3"
  },
  "language_info": {
   "codemirror_mode": {
    "name": "ipython",
    "version": 3
   },
   "file_extension": ".py",
   "mimetype": "text/x-python",
   "name": "python",
   "nbconvert_exporter": "python",
   "pygments_lexer": "ipython3",
   "version": "3.10.9"
  }
 },
 "nbformat": 4,
 "nbformat_minor": 5
}
