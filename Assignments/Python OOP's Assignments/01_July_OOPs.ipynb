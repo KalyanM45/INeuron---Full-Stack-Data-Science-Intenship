{
 "cells": [
  {
   "cell_type": "markdown",
   "id": "832a2969",
   "metadata": {},
   "source": [
    "<h1><center>Python OOP's Concept Assignment - 01 July</center></h1>"
   ]
  },
  {
   "cell_type": "markdown",
   "id": "a7917047",
   "metadata": {},
   "source": [
    "## 1. What is the primary goal of Object-Oriented Programming (OOP)?\n",
    "\n",
    "**Ans:**\n",
    "The primary goal of Object-Oriented Programming (OOP) is to model real-world entities and their interactions in a software system using objects. OOP is a programming paradigm that organizes code into objects, which are instances of classes. Each object encapsulates data (attributes) and behaviors (methods) that are related to the entity it represents.\n",
    "\n",
    "The key principles of OOP include:\n",
    "\n",
    "1. **Encapsulation**: This refers to the bundling of data and methods that operate on that data within a single unit, i.e., the object. Encapsulation allows data to be hidden and accessed only through well-defined methods, providing data security and abstraction.\n",
    "\n",
    "2. **Abstraction**: Abstraction allows the programmer to focus on essential characteristics and functionalities of an object while hiding unnecessary details. It helps in simplifying the complexity of a system, making it easier to understand and maintain.\n",
    "\n",
    "3. **Inheritance**: Inheritance allows a class to inherit properties and behaviors from another class. This promotes code reusability and allows for the creation of hierarchical relationships between classes.\n",
    "\n",
    "4. **Polymorphism**: Polymorphism enables objects of different classes to be treated as objects of a common superclass. This concept allows flexibility in handling different types of objects through a uniform interface, enhancing code flexibility and extensibility.\n",
    "\n",
    "By employing OOP, software developers can create modular, maintainable, and scalable applications that mimic real-world entities and interactions. It fosters a more natural way of thinking about problem-solving, making it widely used in various programming languages and applications."
   ]
  },
  {
   "cell_type": "markdown",
   "id": "029a3e09",
   "metadata": {},
   "source": [
    "## 2. What is an object in Python?"
   ]
  },
  {
   "cell_type": "markdown",
   "id": "7e608859",
   "metadata": {},
   "source": [
    "**Ans:**\n",
    "In Python, an object is a fundamental concept and a core building block of the language. An object is an instance of a class, and a class is essentially a blueprint or a template that defines the structure and behavior of objects of that type. When you create an object, you are instantiating the class and creating a unique instance of it."
   ]
  },
  {
   "cell_type": "code",
   "execution_count": 1,
   "id": "ff5a478b",
   "metadata": {},
   "outputs": [
    {
     "name": "stdout",
     "output_type": "stream",
     "text": [
      "\n",
      "Engine started.\n",
      "\n",
      "Engine started.\n"
     ]
    }
   ],
   "source": [
    "class Car:\n",
    "    def __init__(self, make, model):\n",
    "        self.make = make\n",
    "        self.model = model\n",
    "\n",
    "    def start_engine(self):\n",
    "        print(\"\\nEngine started.\")\n",
    "\n",
    "car1 = Car(\"Toyota\", \"Camry\")\n",
    "car2 = Car(\"Ford\", \"Mustang\")\n",
    "\n",
    "car1.start_engine() \n",
    "car2.start_engine() "
   ]
  },
  {
   "cell_type": "markdown",
   "id": "b9093377",
   "metadata": {},
   "source": [
    "## 3. What is a class in Python?\n",
    "\n",
    "**Ans:**\n",
    "In Python, a class is a blueprint or a template that defines the structure and behavior of objects. It is a fundamental concept of Object-Oriented Programming (OOP). A class serves as a blueprint for creating objects, which are instances of that class. The class defines the attributes (data) and methods (functions) that the objects created from it will possess."
   ]
  },
  {
   "cell_type": "code",
   "execution_count": 2,
   "id": "b18971e4",
   "metadata": {},
   "outputs": [
    {
     "name": "stdout",
     "output_type": "stream",
     "text": [
      "\n",
      "Hello, my name is Alice and I am 30 years old.\n",
      "\n",
      "Hello, my name is Bob and I am 25 years old.\n"
     ]
    }
   ],
   "source": [
    "class Person:\n",
    "    def __init__(self, name, age):\n",
    "        self.name = name\n",
    "        self.age = age\n",
    "\n",
    "    def say_hello(self):\n",
    "        print(f\"\\nHello, my name is {self.name} and I am {self.age} years old.\")\n",
    "\n",
    "person1 = Person(\"Alice\", 30)\n",
    "person2 = Person(\"Bob\", 25)\n",
    "\n",
    "person1.say_hello()  # Output: \"Hello, my name is Alice and I am 30 years old.\"\n",
    "person2.say_hello()  # Output: \"Hello, my name is Bob and I am 25 years old.\""
   ]
  },
  {
   "cell_type": "markdown",
   "id": "ff25a7c8",
   "metadata": {},
   "source": [
    "## 4. What are attributes and methods in a class?\n",
    "\n",
    "**Ans:**\n",
    "In a class, attributes and methods are two essential components that define the structure and behavior of objects created from that class. Let's look at each of them in more detail:\n",
    "\n",
    "* **Attributes**:\n",
    "Attributes are variables that store data associated with each instance (object) of the class. They represent the state of the object and hold specific values that differentiate one object from another. Attributes are defined within the class and are accessed using the self keyword inside methods or the class itself.\n",
    "\n",
    "* **Methods**: \n",
    "Methods are functions defined within a class that define the behavior of objects created from that class. They represent the actions that an object can perform or the operations that can be performed on the object's attributes. Methods are defined in the class similar to regular functions, but they have access to the object's attributes using the self keyword."
   ]
  },
  {
   "cell_type": "markdown",
   "id": "c0325187",
   "metadata": {},
   "source": [
    "## 5. What is the difference between class variables and instance variables in Python?\n",
    "\n",
    "**Ans:**\n",
    "In Python, class variables and instance variables are two types of variables used within a class, but they have different scopes and purposes. Let's explore the differences between them:\n",
    "\n",
    "**Class Variables**:\n",
    "\n",
    "Class variables are variables that are defined within the class but outside of any method.\n",
    "They are shared among all instances (objects) of the class. This means that any change to the class variable's value will affect all instances of the class.\n",
    "Class variables are useful for storing data that is common to all instances of the class.\n",
    "They are accessed using the class name, not through individual instances.\n",
    "Class variables are defined outside of any method, typically at the beginning of the class.\n",
    "\n",
    "**Instance Variables:**\n",
    "\n",
    "Instance variables are variables that are specific to each instance (object) of the class. They are defined inside the constructor (__init__ method) using the self keyword.\n",
    "Each instance of the class has its own set of instance variables, and changes to these variables affect only that particular instance.\n",
    "Instance variables are used to store data unique to each object and represent the state of individual objects.\n",
    "They are accessed and modified through each object instance."
   ]
  },
  {
   "cell_type": "markdown",
   "id": "2e102da1",
   "metadata": {},
   "source": [
    "## 6. What is the purpose of the self parameter in Python class methods?\n",
    "\n",
    "**Ans:**\n",
    "The self parameter in Python class methods is a reference to the instance of the class (i.e., the object) on which the method is called. It is a convention in Python to name this first parameter of instance methods as self, although you can technically choose any name for it.\n",
    "\n",
    "When you define a method inside a class and call it on an object, Python automatically passes the reference to that object as the self parameter to the method. This allows the method to access and manipulate the object's attributes and call other methods associated with that specific instance.\n",
    "\n",
    "The primary purpose of the self parameter is to enable the following:\n",
    "\n",
    "* **Accessing instance variables:** Inside the method, you can access and modify the object's instance variables using self.variable_name.\n",
    "\n",
    "* **Calling other instance methods:** You can call other methods of the same class using self.method_name(). This allows methods to interact with each other and share functionality.\n",
    "\n",
    "* **Differentiating between multiple instances:** When you create multiple objects of the same class, each object has its own set of instance variables. The self parameter allows methods to operate on the specific object that called the method.\n",
    "\n"
   ]
  },
  {
   "cell_type": "markdown",
   "id": "73be7853",
   "metadata": {},
   "source": [
    "## 7. For a library management system, you have to design the \"Book\" class with OOP principles in mind. The “Book” class will have following attributes:\n",
    "* title: Represents the title of the book.\n",
    "* author: Represents the author(s) of the book.\n",
    "* isbn: Represents the ISBN (International Standard Book Number) of the book.\n",
    "* publication_year: Represents the year of publication of the book.\n",
    "* available_copies: Represents the number of copies available for checkout.\n",
    "\n",
    "The class will also include the following methods:\n",
    "* check_out(self): Decrements the available copies by one if there are copies available for checkout.\n",
    "* return_book(self): Increments the available copies by one when a book is returned.\n",
    "* display_book_info(self): Displays the information about the book, including its attributes and the number of available copies.\n"
   ]
  },
  {
   "cell_type": "code",
   "execution_count": 3,
   "id": "4bbeaa37",
   "metadata": {},
   "outputs": [
    {
     "name": "stdout",
     "output_type": "stream",
     "text": [
      "\n",
      "Title: Python Crash Course\n",
      "\n",
      "Author(s): Eric Matthes\n",
      "\n",
      "ISBN: 9781593279288\n",
      "\n",
      "Publication Year: 2019\n",
      "\n",
      "Available Copies: 5\n",
      "Book 'Python Crash Course' checked out successfully.\n",
      "\n",
      "Title: Python Crash Course\n",
      "\n",
      "Author(s): Eric Matthes\n",
      "\n",
      "ISBN: 9781593279288\n",
      "\n",
      "Publication Year: 2019\n",
      "\n",
      "Available Copies: 4\n",
      "Book 'Python Crash Course' returned successfully.\n",
      "\n",
      "Title: Python Crash Course\n",
      "\n",
      "Author(s): Eric Matthes\n",
      "\n",
      "ISBN: 9781593279288\n",
      "\n",
      "Publication Year: 2019\n",
      "\n",
      "Available Copies: 5\n"
     ]
    }
   ],
   "source": [
    "class Book:\n",
    "    def __init__(self, title, author, isbn, publication_year, available_copies):\n",
    "        self.title = title\n",
    "        self.author = author\n",
    "        self.isbn = isbn\n",
    "        self.publication_year = publication_year\n",
    "        self.available_copies = available_copies\n",
    "\n",
    "    def check_out(self):\n",
    "        if self.available_copies > 0:\n",
    "            self.available_copies -= 1\n",
    "            print(f\"Book '{self.title}' checked out successfully.\")\n",
    "        else:\n",
    "            print(f\"Sorry, '{self.title}' is not available for checkout at the moment.\")\n",
    "\n",
    "    def return_book(self):\n",
    "        self.available_copies += 1\n",
    "        print(f\"Book '{self.title}' returned successfully.\")\n",
    "\n",
    "    def display_book_info(self):\n",
    "        print(f\"\\nTitle: {self.title}\")\n",
    "        print(f\"\\nAuthor(s): {self.author}\")\n",
    "        print(f\"\\nISBN: {self.isbn}\")\n",
    "        print(f\"\\nPublication Year: {self.publication_year}\")\n",
    "        print(f\"\\nAvailable Copies: {self.available_copies}\")\n",
    "\n",
    "book1 = Book(\"Python Crash Course\", \"Eric Matthes\", \"9781593279288\", 2019, 5)\n",
    "\n",
    "book1.display_book_info()  # Display book info\n",
    "\n",
    "book1.check_out()         # Check out the book\n",
    "\n",
    "book1.display_book_info()  # Display updated available copies\n",
    "\n",
    "book1.return_book()        # Return the book\n",
    "\n",
    "book1.display_book_info()  # Display updated available copies"
   ]
  },
  {
   "cell_type": "markdown",
   "id": "dd1fbfa2",
   "metadata": {},
   "source": [
    "## 8. For a ticket booking system, you have to design the \"Ticket\" class with OOP principles in mind. The “Ticket” class should have the following attributes:\n",
    "\n",
    "* ticket_id: Represents the unique identifier for the ticket.\n",
    "* event_name: Represents the name of the event.\n",
    "* event_date: Represents the date of the event.\n",
    "* venue: Represents the venue of the event.\n",
    "* seat_number: Represents the seat number associated with the ticket.\n",
    "* price: Represents the price of the ticket.\n",
    "* is_reserved: Represents the reservation status of the ticket.\n",
    "\n",
    "The class also includes the following methods:\n",
    "* reserve_ticket(self): Marks the ticket as reserved if it is not already reserved.\n",
    "* cancel_reservation(self): Cancels the reservation of the ticket if it is already reserved.\n",
    "* display_ticket_info(self): Displays the information about the ticket, including its attributes and reservation status.\n"
   ]
  },
  {
   "cell_type": "code",
   "execution_count": 4,
   "id": "b6455dda",
   "metadata": {},
   "outputs": [
    {
     "name": "stdout",
     "output_type": "stream",
     "text": [
      "\n",
      "Ticket ID: T12345\n",
      "\n",
      "Event Name: Concert\n",
      "\n",
      "Event Date: 2023-08-15\n",
      "\n",
      "Venue: City Arena\n",
      "\n",
      "Seat Number: A12\n",
      "\n",
      "Price: 50 USD\n",
      "\n",
      "Reservation Status: Not Reserved\n",
      "Ticket with ID T12345 is now reserved.\n",
      "\n",
      "Ticket ID: T12345\n",
      "\n",
      "Event Name: Concert\n",
      "\n",
      "Event Date: 2023-08-15\n",
      "\n",
      "Venue: City Arena\n",
      "\n",
      "Seat Number: A12\n",
      "\n",
      "Price: 50 USD\n",
      "\n",
      "Reservation Status: Reserved\n",
      "Reservation for ticket with ID T12345 is canceled.\n",
      "\n",
      "Ticket ID: T12345\n",
      "\n",
      "Event Name: Concert\n",
      "\n",
      "Event Date: 2023-08-15\n",
      "\n",
      "Venue: City Arena\n",
      "\n",
      "Seat Number: A12\n",
      "\n",
      "Price: 50 USD\n",
      "\n",
      "Reservation Status: Not Reserved\n"
     ]
    }
   ],
   "source": [
    "class Ticket:\n",
    "    def __init__(self, ticket_id, event_name, event_date, venue, seat_number, price):\n",
    "        self.ticket_id = ticket_id\n",
    "        self.event_name = event_name\n",
    "        self.event_date = event_date\n",
    "        self.venue = venue\n",
    "        self.seat_number = seat_number\n",
    "        self.price = price\n",
    "        self.is_reserved = False\n",
    "\n",
    "    def reserve_ticket(self):\n",
    "        if not self.is_reserved:\n",
    "            self.is_reserved = True\n",
    "            print(f\"Ticket with ID {self.ticket_id} is now reserved.\")\n",
    "        else:\n",
    "            print(f\"Ticket with ID {self.ticket_id} is already reserved.\")\n",
    "\n",
    "    def cancel_reservation(self):\n",
    "        if self.is_reserved:\n",
    "            self.is_reserved = False\n",
    "            print(f\"Reservation for ticket with ID {self.ticket_id} is canceled.\")\n",
    "        else:\n",
    "            print(f\"Ticket with ID {self.ticket_id} is not reserved.\")\n",
    "\n",
    "    def display_ticket_info(self):\n",
    "        print(f\"\\nTicket ID: {self.ticket_id}\")\n",
    "        print(f\"\\nEvent Name: {self.event_name}\")\n",
    "        print(f\"\\nEvent Date: {self.event_date}\")\n",
    "        print(f\"\\nVenue: {self.venue}\")\n",
    "        print(f\"\\nSeat Number: {self.seat_number}\")\n",
    "        print(f\"\\nPrice: {self.price} USD\")\n",
    "        print(f\"\\nReservation Status: {'Reserved' if self.is_reserved else 'Not Reserved'}\")\n",
    "\n",
    "ticket1 = Ticket(\"T12345\", \"Concert\", \"2023-08-15\", \"City Arena\", \"A12\", 50)\n",
    "\n",
    "ticket1.display_ticket_info()  # Display ticket info\n",
    "\n",
    "ticket1.reserve_ticket()       # Reserve the ticket\n",
    "\n",
    "\n",
    "ticket1.display_ticket_info()  # Display updated reservation status\n",
    "\n",
    "\n",
    "ticket1.cancel_reservation()   # Cancel the reservation\n",
    "\n",
    "\n",
    "ticket1.display_ticket_info()  # Display updated reservation status\n",
    "\n"
   ]
  },
  {
   "cell_type": "markdown",
   "id": "502a6f7e",
   "metadata": {},
   "source": [
    "## 9. You are creating a shopping cart for an e-commerce website. Using OOP to model the \"ShoppingCart\" functionality the class should contain following attributes and methods:\n",
    " - items: Represents the list of items in the shopping cart.\n",
    "\n",
    "The class also includes the following methods:\n",
    "\n",
    "* add_item(self, item): Adds an item to the shopping cart by appending it to the list of items.\n",
    "* remove_item(self, item): Removes an item from the shopping cart if it exists in the list.\n",
    "* view_cart(self): Displays the items currently present in the shopping cart.\n",
    "* clear_cart(self): Clears all items from the shopping cart by reassigning an empty list to the items attribute.\n"
   ]
  },
  {
   "cell_type": "code",
   "execution_count": 5,
   "id": "213abb12",
   "metadata": {},
   "outputs": [
    {
     "name": "stdout",
     "output_type": "stream",
     "text": [
      "Laptop added to the shopping cart.\n",
      "Phone added to the shopping cart.\n",
      "Items in your shopping cart:\n",
      "- Laptop\n",
      "- Phone\n",
      "Laptop removed from the shopping cart.\n",
      "Items in your shopping cart:\n",
      "- Phone\n",
      "Your shopping cart has been cleared.\n",
      "Your shopping cart is empty.\n"
     ]
    }
   ],
   "source": [
    "class ShoppingCart:\n",
    "    def __init__(self):\n",
    "        self.items = []\n",
    "\n",
    "    def add_item(self, item):\n",
    "        self.items.append(item)\n",
    "        print(f\"{item} added to the shopping cart.\")\n",
    "\n",
    "    def remove_item(self, item):\n",
    "        if item in self.items:\n",
    "            self.items.remove(item)\n",
    "            print(f\"{item} removed from the shopping cart.\")\n",
    "        else:\n",
    "            print(f\"{item} is not present in the shopping cart.\")\n",
    "\n",
    "    def view_cart(self):\n",
    "        if not self.items:\n",
    "            print(\"Your shopping cart is empty.\")\n",
    "        else:\n",
    "            print(\"Items in your shopping cart:\")\n",
    "            for item in self.items:\n",
    "                print(f\"- {item}\")\n",
    "\n",
    "    def clear_cart(self):\n",
    "        self.items = []\n",
    "        print(\"Your shopping cart has been cleared.\")\n",
    "\n",
    "cart = ShoppingCart()\n",
    "\n",
    "cart.add_item(\"Laptop\")    # Add an item to the cart\n",
    "\n",
    "cart.add_item(\"Phone\")     # Add another item to the cart\n",
    "\n",
    "cart.view_cart()           # View the items in the cart\n",
    "\n",
    "cart.remove_item(\"Laptop\") # Remove an item from the cart\n",
    "\n",
    "cart.view_cart()           # View the updated cart\n",
    "\n",
    "cart.clear_cart()          # Clear the cart\n",
    "\n",
    "cart.view_cart()           # View the empty cart"
   ]
  },
  {
   "cell_type": "markdown",
   "id": "c87e6c4f",
   "metadata": {},
   "source": [
    "## 10. Imagine a school management system. You have to design the \"Student\" class using OOP concepts.The “Student” class has the following attributes:\n",
    " - name: Represents the name of the student.\n",
    " - age: Represents the age of the student.\n",
    " - grade: Represents the grade or class of the student.\n",
    " - student_id: Represents the unique identifier for the student.\n",
    " - attendance: Represents the attendance record of the student.\n",
    " \n",
    "The class should also include the following methods:\n",
    "\n",
    " * update_attendance(self, date, status): Updates the attendance record of the student for a given date with the provided status (e.g., present or absent).\n",
    " * get_attendance(self): Returns the attendance record of the student.\n",
    " * get_average_attendance(self): Calculates and returns the average attendance percentage of the student based on their attendance record."
   ]
  },
  {
   "cell_type": "code",
   "execution_count": 6,
   "id": "1718761c",
   "metadata": {},
   "outputs": [
    {
     "name": "stdout",
     "output_type": "stream",
     "text": [
      "Attendance for Alice updated for 2023-07-26.\n",
      "Attendance for Alice updated for 2023-07-27.\n",
      "Attendance for Alice updated for 2023-07-28.\n",
      "{'2023-07-26': 'present', '2023-07-27': 'absent', '2023-07-28': 'present'}\n",
      "Average attendance for Alice: 66.66666666666666%\n"
     ]
    }
   ],
   "source": [
    "class Student:\n",
    "    def __init__(self, name, age, grade, student_id):\n",
    "        self.name = name\n",
    "        self.age = age\n",
    "        self.grade = grade\n",
    "        self.student_id = student_id\n",
    "        self.attendance = {}  # Attendance record stored as a dictionary with date as key and status as value\n",
    "\n",
    "    def update_attendance(self, date, status):\n",
    "        if status.lower() == \"present\" or status.lower() == \"absent\":\n",
    "            self.attendance[date] = status.lower()\n",
    "            print(f\"Attendance for {self.name} updated for {date}.\")\n",
    "        else:\n",
    "            print(\"Invalid attendance status. Please use 'Present' or 'Absent'.\")\n",
    "\n",
    "    def get_attendance(self):\n",
    "        return self.attendance\n",
    "\n",
    "    def get_average_attendance(self):\n",
    "        total_days = len(self.attendance)\n",
    "        if total_days == 0:\n",
    "            return 0.0\n",
    "        present_days = sum(status == \"present\" for status in self.attendance.values())\n",
    "        return (present_days / total_days) * 100\n",
    "\n",
    "student1 = Student(\"Alice\", 15, \"10th Grade\", \"S123456\")\n",
    "student1.update_attendance(\"2023-07-26\", \"Present\")\n",
    "student1.update_attendance(\"2023-07-27\", \"Absent\")\n",
    "student1.update_attendance(\"2023-07-28\", \"Present\")\n",
    "\n",
    "print(student1.get_attendance())  \n",
    "\n",
    "print(f\"Average attendance for {student1.name}: {student1.get_average_attendance()}%\")"
   ]
  }
 ],
 "metadata": {
  "kernelspec": {
   "display_name": "Python 3 (ipykernel)",
   "language": "python",
   "name": "python3"
  },
  "language_info": {
   "codemirror_mode": {
    "name": "ipython",
    "version": 3
   },
   "file_extension": ".py",
   "mimetype": "text/x-python",
   "name": "python",
   "nbconvert_exporter": "python",
   "pygments_lexer": "ipython3",
   "version": "3.10.9"
  }
 },
 "nbformat": 4,
 "nbformat_minor": 5
}
